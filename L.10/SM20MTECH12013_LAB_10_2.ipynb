{
  "nbformat": 4,
  "nbformat_minor": 0,
  "metadata": {
    "colab": {
      "name": "SM20MTECH12013_LAB_10.2",
      "provenance": []
    },
    "kernelspec": {
      "name": "python3",
      "display_name": "Python 3"
    },
    "language_info": {
      "name": "python"
    }
  },
  "cells": [
    {
      "cell_type": "markdown",
      "metadata": {
        "id": "ysHbzurSOVk5"
      },
      "source": [
        "## (a) Here 'K' (Minimum number of steps needed to reach the destination) takes integer values and it looks like staircase function.\n",
        "##We know that the sublevel sets of staircase function is convex but the function itself is not convex. So this problem is quasi-convex problem."
      ]
    },
    {
      "cell_type": "markdown",
      "metadata": {
        "id": "bbycpgVb3a_6"
      },
      "source": [
        "##(b) Formulation of optimization problem(Minimum time maneuver for a crane) "
      ]
    },
    {
      "cell_type": "code",
      "metadata": {
        "colab": {
          "base_uri": "https://localhost:8080/"
        },
        "id": "KAd_sBAy3e1T",
        "outputId": "bd363869-1090-45f5-b3ec-307ccb3cc910"
      },
      "source": [
        "import numpy as np\n",
        "import cvxpy as cp\n",
        "import matplotlib.pyplot as plt\n",
        "\n",
        "#Data given:\n",
        "max_T = 2.0 #Maximum Tension \n",
        "h = 0.1 #step size\n",
        "m = 0.1 #Load mass\n",
        "theta = 15*(np.pi)/180\n",
        "Fi = np.array([[-np.sin(theta),np.sin(theta)],[np.cos(theta),np.cos(theta)]]) #total force on load\n",
        "g = np.transpose(np.matrix([0,-9.8]))\n",
        "p_val = 0\n",
        "T_val = 0\n",
        "p_init = np.array([0,0]) #Intial position\n",
        "p_des = np.array([10,2]) #Destination\n",
        "\n",
        "\n",
        "'Bisection Method:'\n",
        "lower_bound = 0\n",
        "upper_bound = 100\n",
        "while not lower_bound + 1 == upper_bound:\n",
        "  k = int((lower_bound+upper_bound)/2)\n",
        "\n",
        "  ##Variables\n",
        "  v = cp.Variable((2,k)) #velocity\n",
        "  p = cp.Variable((2,k)) #position\n",
        "  T = cp.Variable((2,k-1)) #Tension\n",
        "\n",
        "  F = Fi@T+m*np.tile(g,(1,k-1))\n",
        "  \n",
        "  ##constraints\n",
        "  constraints = [v[:,1:k]==v[:,0:k-1]+(h/m)*F,p[:,1:k]==p[:,0:k-1]+h*v[:,0:k-1]]\n",
        "  constraints = constraints + [0<=T, T<=max_T,p[:,0]==p_init,p[:,k-1]==p_des,v[:,0]==0,v[:,k-1]==0]\n",
        "\n",
        "  ##Objective\n",
        "  objective = cp.Minimize(0) #Quasi-convex optimization problem\n",
        "\n",
        "  ##Solving the problem\n",
        "  problem = cp.Problem(objective,constraints) \n",
        "  optimum_val = problem.solve()\n",
        "  if optimum_val==0:\n",
        "    upper_bound = k\n",
        "    p_val = p.value\n",
        "    T_val = T.value\n",
        "  else:\n",
        "    lower_bound = k\n",
        "k = upper_bound;\n",
        "\n",
        "##printing the result\n",
        "print('Minimum number of steps needed to reach the destination(k): '+str(k))"
      ],
      "execution_count": 49,
      "outputs": [
        {
          "output_type": "stream",
          "text": [
            "Minimum number of steps needed to reach the destination(k): 34\n"
          ],
          "name": "stdout"
        }
      ]
    },
    {
      "cell_type": "markdown",
      "metadata": {
        "id": "uyomV1O04I73"
      },
      "source": [
        "##Plot for Load  trajectory"
      ]
    },
    {
      "cell_type": "code",
      "metadata": {
        "colab": {
          "base_uri": "https://localhost:8080/",
          "height": 313
        },
        "id": "D4JzvUQa4ZuA",
        "outputId": "fdabb5ef-a51e-476d-9753-389e8936a01a"
      },
      "source": [
        "plt.plot(p_val[0,:].T,p_val[1,:].T)\n",
        "plt.title('Load Trajectory')\n",
        "plt.xlabel('x axis')\n",
        "plt.ylabel('Change in position of the load')"
      ],
      "execution_count": 50,
      "outputs": [
        {
          "output_type": "execute_result",
          "data": {
            "text/plain": [
              "Text(0, 0.5, 'Change in position of the load')"
            ]
          },
          "metadata": {
            "tags": []
          },
          "execution_count": 50
        },
        {
          "output_type": "display_data",
          "data": {
            "image/png": "[encoded data removed]",
            "text/plain": [
              "<Figure size 432x288 with 1 Axes>"
            ]
          },
          "metadata": {
            "tags": [],
            "needs_background": "light"
          }
        }
      ]
    },
    {
      "cell_type": "markdown",
      "metadata": {
        "id": "02lQ27oA4l0O"
      },
      "source": [
        "##Plot for Tensions Vs Time "
      ]
    },
    {
      "cell_type": "code",
      "metadata": {
        "colab": {
          "base_uri": "https://localhost:8080/",
          "height": 313
        },
        "id": "mSHPyP6S4uls",
        "outputId": "5d772ad2-9f34-4a9e-f449-bac1e0bdd0a1"
      },
      "source": [
        "plt.plot(T_val.T)\n",
        "plt.title('Tensions Vs Time')\n",
        "plt.xlabel('Time(in seconds)')\n",
        "plt.ylabel('Tensions')"
      ],
      "execution_count": 51,
      "outputs": [
        {
          "output_type": "execute_result",
          "data": {
            "text/plain": [
              "Text(0, 0.5, 'Tensions')"
            ]
          },
          "metadata": {
            "tags": []
          },
          "execution_count": 51
        },
        {
          "output_type": "display_data",
          "data": {
            "image/png": "[encoded data removed]",
            "text/plain": [
              "<Figure size 432x288 with 1 Axes>"
            ]
          },
          "metadata": {
            "tags": [],
            "needs_background": "light"
          }
        }
      ]
    }
  ]
}