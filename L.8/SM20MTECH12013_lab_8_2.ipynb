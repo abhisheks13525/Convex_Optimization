{
  "nbformat": 4,
  "nbformat_minor": 0,
  "metadata": {
    "colab": {
      "name": "SM20MTECH12013_lab_8.2.ipynb",
      "provenance": []
    },
    "kernelspec": {
      "name": "python3",
      "display_name": "Python 3"
    },
    "language_info": {
      "name": "python"
    }
  },
  "cells": [
    {
      "cell_type": "markdown",
      "metadata": {
        "id": "jc_LNFAxWZPJ"
      },
      "source": [
        "## Road gradient problem"
      ]
    },
    {
      "cell_type": "code",
      "metadata": {
        "colab": {
          "base_uri": "https://localhost:8080/"
        },
        "id": "NKRLRsUAQI_y",
        "outputId": "c0e64026-4479-427b-a66f-b1791e7fdd2d"
      },
      "source": [
        "import cvxpy as cp\n",
        "import numpy as np\n",
        "import matplotlib.pyplot as plt\n",
        "\n",
        "#according to the data given:\n",
        "n=100\n",
        "x=np.linspace(1,101,100)\n",
        "e=np.array([5*np.sin(3*np.pi*i/n)+np.sin(10*np.pi*i/n) for i in x])\n",
        "d=np.arange(1,101,1)\n",
        "\n",
        "e=np.reshape(e,(n,1))\n",
        "d=np.reshape(d,(n,1))\n",
        "\n",
        "#function defined wrt the construction cost to be minimized\n",
        "def total_cost(rang):\n",
        "  phi_fill=np.array([2*(cp.maximum(x,0))**2 + 30*cp.maximum(x,0) for x in rang])\n",
        "  phi_cut=np.array([12*(cp.maximum(-x,0))**2 + cp.maximum(-x,0) for x in rang])\n",
        "  overall_cost =phi_fill + phi_cut\n",
        "  return (overall_cost)\n",
        "\n",
        "#defining Variables\n",
        "h= cp.Variable((n,1))\n",
        "u = h-e\n",
        "\n",
        "\n",
        "#Creating an empty list of constraints \n",
        "constraints= list() \n",
        "\n",
        "#Let the derivatives be defined as G1(1st derivative), G2(2nd derivative), G3(3rd derivative)\n",
        "G1 = np.zeros((n,1))\n",
        "G2 = np.zeros((n,1))\n",
        "G3 = np.zeros((n,1))\n",
        "\n",
        "G1 = np.array([h[i+1]-h[i] for i in range(n-1)]) \n",
        "G2 = np.array([G1[i+1]-G1[i] for i in range(n-2)])\n",
        "G3 = np.array([G2[i+1]-G2[i] for i in range(n-3)])\n",
        "\n",
        "#Values in the question given as:\n",
        "D1=0.08\n",
        "D2=0.025\n",
        "D3=0.005\n",
        "\n",
        "#Appending the required constraints to the empty list created above\n",
        "\n",
        "G1=h[1:(h.shape[0])-1]-h[0:(h.shape[0])-2]\n",
        "G2=G1[1:(G1.shape[0])-1]-G1[0:(G1.shape[0])-2]\n",
        "G3=G2[1:(G2.shape[0])-1]-G2[0:(G2.shape[0])-2]\n",
        "constraints=[cp.max(cp.abs(G1))<=D1]\n",
        "constraints+=[cp.max(cp.abs(G2))<=D2]\n",
        "constraints+=[cp.max(cp.abs(G3))<=D3]\n",
        "\n",
        "#Function call\n",
        "overall_cost = total_cost(u)\n",
        "\n",
        "#defining problem\n",
        "objective=cp.Minimize(cp.abs(sum(overall_cost)))\n",
        "prob=cp.Problem(objective,constraints)\n",
        "\n",
        "# solving the problem\n",
        "prob.solve()\n",
        "\n",
        "#Required results\n",
        "print(\"optimal total cost of construction is:\",\"\\n\",prob.solve())\n",
        "print(\"optimal status:\",\"\\n\",prob.status)\n",
        "print(\"height of the roadbed that should be chosen are:\",\"\\n\",h.value)\n"
      ],
      "execution_count": 22,
      "outputs": [
        {
          "output_type": "stream",
          "text": [
            "optimal total cost of construction is: \n",
            " 7520.570154150903\n",
            "optimal status: \n",
            " optimal\n",
            "height of the roadbed that should be chosen are: \n",
            " [[ 2.48763058]\n",
            " [ 2.56763054]\n",
            " [ 2.64763054]\n",
            " [ 2.72763058]\n",
            " [ 2.80563058]\n",
            " [ 2.87663045]\n",
            " [ 2.93563011]\n",
            " [ 2.97762946]\n",
            " [ 2.99762843]\n",
            " [ 2.99262748]\n",
            " [ 2.96262662]\n",
            " [ 2.91262586]\n",
            " [ 2.84762527]\n",
            " [ 2.77262493]\n",
            " [ 2.6926249 ]\n",
            " [ 2.61262488]\n",
            " [ 2.53262485]\n",
            " [ 2.45262483]\n",
            " [ 2.3726248 ]\n",
            " [ 2.29262477]\n",
            " [ 2.21262474]\n",
            " [ 2.13262471]\n",
            " [ 2.05262468]\n",
            " [ 1.97262465]\n",
            " [ 1.89262462]\n",
            " [ 1.81262459]\n",
            " [ 1.73262456]\n",
            " [ 1.65262453]\n",
            " [ 1.5726245 ]\n",
            " [ 1.49262447]\n",
            " [ 1.41262444]\n",
            " [ 1.33262441]\n",
            " [ 1.25262438]\n",
            " [ 1.17262435]\n",
            " [ 1.09262432]\n",
            " [ 1.0126243 ]\n",
            " [ 0.93262427]\n",
            " [ 0.85262424]\n",
            " [ 0.77262421]\n",
            " [ 0.69262419]\n",
            " [ 0.61262416]\n",
            " [ 0.53262413]\n",
            " [ 0.45262411]\n",
            " [ 0.37262409]\n",
            " [ 0.29262407]\n",
            " [ 0.2146691 ]\n",
            " [ 0.14375926]\n",
            " [ 0.0848946 ]\n",
            " [ 0.04307517]\n",
            " [ 0.02330101]\n",
            " [ 0.02852676]\n",
            " [ 0.05870798]\n",
            " [ 0.10884431]\n",
            " [ 0.17393542]\n",
            " [ 0.24898112]\n",
            " [ 0.3289813 ]\n",
            " [ 0.40898127]\n",
            " [ 0.48898131]\n",
            " [ 0.56898136]\n",
            " [ 0.6489814 ]\n",
            " [ 0.72898144]\n",
            " [ 0.80898148]\n",
            " [ 0.88898153]\n",
            " [ 0.96898157]\n",
            " [ 1.04898161]\n",
            " [ 1.12898166]\n",
            " [ 1.2089817 ]\n",
            " [ 1.28898175]\n",
            " [ 1.36898179]\n",
            " [ 1.44898183]\n",
            " [ 1.52898187]\n",
            " [ 1.60898192]\n",
            " [ 1.68898196]\n",
            " [ 1.768982  ]\n",
            " [ 1.84898204]\n",
            " [ 1.92898208]\n",
            " [ 2.00898212]\n",
            " [ 2.08898216]\n",
            " [ 2.1689822 ]\n",
            " [ 2.24898224]\n",
            " [ 2.32898229]\n",
            " [ 2.40698236]\n",
            " [ 2.47798231]\n",
            " [ 2.53698204]\n",
            " [ 2.57898141]\n",
            " [ 2.59898031]\n",
            " [ 2.59397929]\n",
            " [ 2.56397833]\n",
            " [ 2.51397748]\n",
            " [ 2.44897682]\n",
            " [ 2.37397643]\n",
            " [ 2.29397641]\n",
            " [ 2.21397637]\n",
            " [ 2.13397635]\n",
            " [ 2.05397632]\n",
            " [ 1.9739763 ]\n",
            " [ 1.89397629]\n",
            " [ 1.81397628]\n",
            " [ 1.73397632]\n",
            " [-0.16152664]]\n"
          ],
          "name": "stdout"
        }
      ]
    },
    {
      "cell_type": "markdown",
      "metadata": {
        "id": "DpNVNBUngVpA"
      },
      "source": [
        "##Plot for the height of the roadbed vs distance down the road"
      ]
    },
    {
      "cell_type": "code",
      "metadata": {
        "colab": {
          "base_uri": "https://localhost:8080/",
          "height": 297
        },
        "id": "9D9mypPpfjlK",
        "outputId": "492f2d28-f8d8-42c2-d616-ba6b2d19ecdd"
      },
      "source": [
        "plt.figure()\n",
        "plt.plot(d,h.value)\n",
        "plt.xlabel(\"distance down the road\")\n",
        "plt.ylabel(\"height of the roadbed\")\n"
      ],
      "execution_count": 24,
      "outputs": [
        {
          "output_type": "execute_result",
          "data": {
            "text/plain": [
              "Text(0, 0.5, 'height of the roadbed')"
            ]
          },
          "metadata": {
            "tags": []
          },
          "execution_count": 24
        },
        {
          "output_type": "display_data",
          "data": {
            "image/png": "[encoded data removed]",
            "text/plain": [
              "<Figure size 432x288 with 1 Axes>"
            ]
          },
          "metadata": {
            "tags": [],
            "needs_background": "light"
          }
        }
      ]
    },
    {
      "cell_type": "markdown",
      "metadata": {
        "id": "huxqRakVqi7i"
      },
      "source": [
        "##Plot for the elevation(e) vs distance down the road"
      ]
    },
    {
      "cell_type": "code",
      "metadata": {
        "colab": {
          "base_uri": "https://localhost:8080/",
          "height": 297
        },
        "id": "cBdQ0lQIqyox",
        "outputId": "0d6dee22-9580-440c-a3ef-9b470c46e806"
      },
      "source": [
        "plt.figure()\n",
        "plt.plot(d,e)\n",
        "plt.xlabel(\"distance down the road\")\n",
        "plt.ylabel(\"elevation\")"
      ],
      "execution_count": 23,
      "outputs": [
        {
          "output_type": "execute_result",
          "data": {
            "text/plain": [
              "Text(0, 0.5, 'elevation')"
            ]
          },
          "metadata": {
            "tags": []
          },
          "execution_count": 23
        },
        {
          "output_type": "display_data",
          "data": {
            "image/png": "[encoded data removed]",
            "text/plain": [
              "<Figure size 432x288 with 1 Axes>"
            ]
          },
          "metadata": {
            "tags": [],
            "needs_background": "light"
          }
        }
      ]
    },
    {
      "cell_type": "markdown",
      "metadata": {
        "id": "B3WRTtYDh7UL"
      },
      "source": [
        "##Plot for 'u' (which is difference between the existing elevation and height of the roadbed.) vs distance (d)"
      ]
    },
    {
      "cell_type": "code",
      "metadata": {
        "colab": {
          "base_uri": "https://localhost:8080/",
          "height": 297
        },
        "id": "9TDw-z1liSci",
        "outputId": "af653883-17a7-462e-a104-0446a8b8db45"
      },
      "source": [
        "plt.figure()\n",
        "plt.plot(d,(h.value-e)) \n",
        "plt.xlabel(\"distance down the road\")\n",
        "plt.ylabel(\"u\")"
      ],
      "execution_count": 28,
      "outputs": [
        {
          "output_type": "execute_result",
          "data": {
            "text/plain": [
              "Text(0, 0.5, 'u')"
            ]
          },
          "metadata": {
            "tags": []
          },
          "execution_count": 28
        },
        {
          "output_type": "display_data",
          "data": {
            "image/png": "[encoded data removed]",
            "text/plain": [
              "<Figure size 432x288 with 1 Axes>"
            ]
          },
          "metadata": {
            "tags": [],
            "needs_background": "light"
          }
        }
      ]
    },
    {
      "cell_type": "markdown",
      "metadata": {
        "id": "BDNwTZXzjLOi"
      },
      "source": [
        "#Plot for the fill cost as a function of 'u' "
      ]
    },
    {
      "cell_type": "code",
      "metadata": {
        "colab": {
          "base_uri": "https://localhost:8080/",
          "height": 391
        },
        "id": "Ge6wMq6qhbc4",
        "outputId": "c6ff1ef1-bd52-414c-e65a-9546555255b2"
      },
      "source": [
        "fhi_cut=np.array([12*(max(-x,0))**2 + max(-x,0) for x in u.value])\n",
        "fhi_fill=np.array([2*(max(x,0))**2 + 30*max(x,0) for x in u.value])\n",
        "plt.figure()\n",
        "plt.plot(fhi_fill)\n",
        "plt.xlabel(\"u\")\n",
        "plt.ylabel(\"fill cost\")\n"
      ],
      "execution_count": 29,
      "outputs": [
        {
          "output_type": "stream",
          "text": [
            "/usr/local/lib/python3.7/dist-packages/ipykernel_launcher.py:1: VisibleDeprecationWarning: Creating an ndarray from ragged nested sequences (which is a list-or-tuple of lists-or-tuples-or ndarrays with different lengths or shapes) is deprecated. If you meant to do this, you must specify 'dtype=object' when creating the ndarray\n",
            "  \"\"\"Entry point for launching an IPython kernel.\n",
            "/usr/local/lib/python3.7/dist-packages/ipykernel_launcher.py:2: VisibleDeprecationWarning: Creating an ndarray from ragged nested sequences (which is a list-or-tuple of lists-or-tuples-or ndarrays with different lengths or shapes) is deprecated. If you meant to do this, you must specify 'dtype=object' when creating the ndarray\n",
            "  \n"
          ],
          "name": "stderr"
        },
        {
          "output_type": "execute_result",
          "data": {
            "text/plain": [
              "Text(0, 0.5, 'fill cost')"
            ]
          },
          "metadata": {
            "tags": []
          },
          "execution_count": 29
        },
        {
          "output_type": "display_data",
          "data": {
            "image/png": "[encoded data removed]",
            "text/plain": [
              "<Figure size 432x288 with 1 Axes>"
            ]
          },
          "metadata": {
            "tags": [],
            "needs_background": "light"
          }
        }
      ]
    },
    {
      "cell_type": "markdown",
      "metadata": {
        "id": "t4HBaqshr5u5"
      },
      "source": [
        "##plot for cut cost as a fuction of 'u'"
      ]
    },
    {
      "cell_type": "code",
      "metadata": {
        "colab": {
          "base_uri": "https://localhost:8080/",
          "height": 297
        },
        "id": "MI022oXtkJzU",
        "outputId": "0fac0189-ebe2-43ac-d835-a8fdadeab489"
      },
      "source": [
        "plt.figure()\n",
        "plt.plot(fhi_cut)\n",
        "plt.xlabel(\"u\")\n",
        "plt.ylabel(\"Cut cost\")"
      ],
      "execution_count": 27,
      "outputs": [
        {
          "output_type": "execute_result",
          "data": {
            "text/plain": [
              "Text(0, 0.5, 'Cut cost')"
            ]
          },
          "metadata": {
            "tags": []
          },
          "execution_count": 27
        },
        {
          "output_type": "display_data",
          "data": {
            "image/png": "[encoded data removed]",
            "text/plain": [
              "<Figure size 432x288 with 1 Axes>"
            ]
          },
          "metadata": {
            "tags": [],
            "needs_background": "light"
          }
        }
      ]
    },
    {
      "cell_type": "code",
      "metadata": {
        "id": "4btNqJmSsZ6b"
      },
      "source": [
        ""
      ],
      "execution_count": null,
      "outputs": []
    }
  ]
}