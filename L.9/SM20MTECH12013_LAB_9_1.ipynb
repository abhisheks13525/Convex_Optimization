{
  "nbformat": 4,
  "nbformat_minor": 0,
  "metadata": {
    "colab": {
      "name": "SM20MTECH12013_LAB_9.1.ipynb",
      "provenance": []
    },
    "kernelspec": {
      "name": "python3",
      "display_name": "Python 3"
    },
    "language_info": {
      "name": "python"
    }
  },
  "cells": [
    {
      "cell_type": "markdown",
      "metadata": {
        "id": "kt4cu7j9TVY0"
      },
      "source": [
        "##1) Optimization problem for designing a box shaped structure with largest possible volume:"
      ]
    },
    {
      "cell_type": "code",
      "metadata": {
        "colab": {
          "base_uri": "https://localhost:8080/"
        },
        "id": "9bHnd0P4TPEd",
        "outputId": "50ce5682-65e1-4685-b085-13783db08435"
      },
      "source": [
        "import cvxpy as cp\n",
        "\n",
        "# Given data according to question\n",
        "a = 0.8\n",
        "b = 1.2\n",
        "\n",
        "#defining varaiables\n",
        "h = cp.Variable(pos=True, name=\"h\")\n",
        "w = cp.Variable(pos=True, name=\"w\")\n",
        "d = cp.Variable(pos=True, name=\"d\")\n",
        "\n",
        "volume = h * w * d\n",
        "Total_wall_area = 2 * (h * w + h * d)\n",
        "Total_floor_area = w * d\n",
        "h_w_ratio = h/w\n",
        "d_w_ratio = d/w\n",
        "\n",
        "#defining constraints\n",
        "constraints = [ Total_wall_area <= 200, Total_floor_area <= 60]\n",
        "constraints += [ h_w_ratio >= a, h_w_ratio <= b, d_w_ratio >= a, d_w_ratio <= b]\n",
        "\n",
        "#defining problem\n",
        "problem = cp.Problem(cp.Maximize(volume), constraints)\n",
        "assert not problem.is_dcp()\n",
        "assert problem.is_dgp()\n",
        "problem.solve(gp=True)\n",
        "\n",
        "#printing the result\n",
        "print('Height (in units):%.2g'% h.value)\n",
        "print('Width (in units):%.2g'% w.value)\n",
        "print('Depth (in units):%.2g'% d.value)\n",
        "print('Largest possible volume (in cube units):',problem.value)\n"
      ],
      "execution_count": 23,
      "outputs": [
        {
          "output_type": "stream",
          "text": [
            "Height (in units):6.5\n",
            "Width (in units):7.7\n",
            "Depth (in units):7.7\n",
            "Largest possible volume (in cube units): 387.29833410356673\n"
          ],
          "name": "stdout"
        }
      ]
    },
    {
      "cell_type": "markdown",
      "metadata": {
        "id": "6ytGLBjJZmWQ"
      },
      "source": [
        "##2) Power assignment in a wireless communication system:"
      ]
    },
    {
      "cell_type": "code",
      "metadata": {
        "colab": {
          "base_uri": "https://localhost:8080/"
        },
        "id": "Q4BptypPVdmG",
        "outputId": "f8a98c8f-e5ae-4c7c-bbce-a35491291ccd"
      },
      "source": [
        "import numpy as np\n",
        "def pow_assign(G,max_p,p_rcv,sigma,Group,Group_max,epsilon = 0.001):\n",
        "\n",
        "  \n",
        "  n,m = np.shape(G) #where G is the path gain matrix\n",
        "  delta = np.identity(n)\n",
        "  S = G*delta # signal power matrix\n",
        "  I = G-S # interference power matrix\n",
        "  num_groups = int(np.size(Group,0))\n",
        "\n",
        "  # normalising the maximum power\n",
        "  grp_nrm = np.array([group/np.sum(group) for group in Group])\n",
        " \n",
        "  p = cp.Variable((n,1)) #variable p:  power of the n number of transmitters\n",
        "  best = np.zeros(n)\n",
        "  # set upper and lower bounds for sub-level set\n",
        "  u = 1e4\n",
        "  l = 0\n",
        "\n",
        "  alpha = cp.Parameter() #alpha= [1/(min SINR)]\n",
        "\n",
        "  #defining constraints\n",
        "  constraints = [I@p + sigma <= alpha*S*p, p <= max_p, p >= 0, G*p <= p_rcv, grp_nrm*p <= Group_max]\n",
        "\n",
        "  # define objective function\n",
        "  objective = cp.Minimize(alpha)\n",
        "\n",
        "  #checking if the solution lies between u and l or not\n",
        "  alpha.value = u\n",
        "\n",
        "  # Bisection algo:\n",
        "  maxLoop = int(1e7)\n",
        "  for i in range(1,maxLoop):\n",
        "    alpha.value = (u + l)/2.0 #α as the midpoint of the interval\n",
        "    if u-l <= epsilon:\n",
        "      break\n",
        "\n",
        "    #Solving the problem\n",
        "    prob = cp.Problem(objective, constraints)\n",
        "    prob.solve()\n",
        "    \n",
        "    if prob.status == 'optimal':\n",
        "      u = alpha.value\n",
        "      best = p.value\n",
        "    else:\n",
        "      l = alpha.value\n",
        "\n",
        "    if u - l > epsilon and i == (maxLoop-1):\n",
        "      print(\"Result did not converged to order epsilon\")\n",
        "\n",
        "  return l,u,alpha.value,best\n",
        "\n",
        "G = np.array([[1.0,0.1,0.2,0.1,0.0],\n",
        "                [0.1,1.0,0.1,0.1,0.0],\n",
        "                [0.2,0.1,2.0,0.2,0.2],\n",
        "                [0.1,0.1,0.2,1.0,0.1],\n",
        "                [0.0,0.0,0.2,0.1,1.0]])\n",
        "\n",
        "\n",
        "n,m = np.shape(G) #here n=m\n",
        "\n",
        "max_p = np.array([1.]*n).reshape((n,1))\n",
        "p_rcv = (np.array([5.,5.,5.,5.,5.]).reshape((n,1)))/n #normalised recieved power\n",
        "sigma = np.array([0.5,0.5,0.5,0.5,0.5]).reshape((n,1))\n",
        "Group = np.array([[1.,1.,0,0,0],[0,0,1.,1.,1.]])\n",
        "Group_max = np.array([[2.0],[2.0]]) # max normalised power for groups\n",
        "l,u,alpha,best= pow_assign(G,max_p,p_rcv,sigma,Group,Group_max)\n",
        "\n",
        "#printing the results\n",
        "print('For the given problem the minimum SINR is : %.2g'%(1/alpha))\n",
        "print('The transmitter powers are :','\\n',(best))\n"
      ],
      "execution_count": 25,
      "outputs": [
        {
          "output_type": "stream",
          "text": [
            "For the given problem the minimum SINR is : 0.76\n",
            "The transmitter powers are : \n",
            " [[0.50736535]\n",
            " [0.4845548 ]\n",
            " [0.32391971]\n",
            " [0.54058924]\n",
            " [0.47054301]]\n"
          ],
          "name": "stdout"
        }
      ]
    },
    {
      "cell_type": "code",
      "metadata": {
        "id": "Ly52u6V_2uL5"
      },
      "source": [
        ""
      ],
      "execution_count": null,
      "outputs": []
    }
  ]
}