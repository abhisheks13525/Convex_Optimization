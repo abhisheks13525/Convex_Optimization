{
 "cells": [
  {
   "cell_type": "code",
   "execution_count": 7,
   "metadata": {
    "colab": {
     "base_uri": "https://localhost:8080/"
    },
    "id": "KQaFeaCV0MSE",
    "outputId": "04663480-e8e5-4d86-e222-6605a0eca287"
   },
   "outputs": [
    {
     "name": "stdout",
     "output_type": "stream",
     "text": [
      "Number of servings: [[ 1.94444445]\n",
      " [10.        ]\n",
      " [10.        ]]\n"
     ]
    }
   ],
   "source": [
    "import numpy as np\n",
    "import cvxpy as cp\n",
    "\n",
    "#Define_Variable\n",
    "m=3\n",
    "n=1\n",
    "calories = np.matrix([72, 121, 65])\n",
    "cost = np.matrix([0.18, 0.23, 0.05])\n",
    "vitamin = np.matrix([107, 500, 0])\n",
    "s = cp.Variable((m,n)) #number of servings defined as unknown variable say: X1, X2, X3\n",
    "\n",
    "#Define_problem\n",
    "\n",
    "#objective\n",
    "objective = cp.Minimize(cost@s)\n",
    "\n",
    "#contraints(Overall 6 constraints according to the given problem)\n",
    "constraints = [s>=0 , s<=10 , (calories@s)>=2000 , (calories@s)<=2250 , (vitamin@s)>=5000 ,(vitamin@s)<=50000]\n",
    "\n",
    "prob = cp.Problem(objective,constraints)\n",
    "prob.solve()\n",
    "print(\"Number of servings:\",s.value)"
   ]
  },
  {
   "cell_type": "code",
   "execution_count": 8,
   "metadata": {
    "colab": {
     "base_uri": "https://localhost:8080/"
    },
    "id": "LqqPxSgs4d1M",
    "outputId": "008bfe23-c150-41ca-e12a-895c5fb6ff2b"
   },
   "outputs": [
    {
     "name": "stdout",
     "output_type": "stream",
     "text": [
      "Minimum cost in $: [[3.15]]\n"
     ]
    }
   ],
   "source": [
    "print(\"Minimum cost in $:\",cost@s.value)"
   ]
  },
  {
   "cell_type": "code",
   "execution_count": null,
   "metadata": {
    "id": "kxo65RyY8NvR"
   },
   "outputs": [],
   "source": []
  }
 ],
 "metadata": {
  "colab": {
   "name": "SM20MTECH12013_Solution 1.ipynb",
   "provenance": []
  },
  "kernelspec": {
   "display_name": "Python 3",
   "language": "python",
   "name": "python3"
  },
  "language_info": {
   "codemirror_mode": {
    "name": "ipython",
    "version": 3
   },
   "file_extension": ".py",
   "mimetype": "text/x-python",
   "name": "python",
   "nbconvert_exporter": "python",
   "pygments_lexer": "ipython3",
   "version": "3.8.3"
  }
 },
 "nbformat": 4,
 "nbformat_minor": 1
}
