{
  "nbformat": 4,
  "nbformat_minor": 0,
  "metadata": {
    "colab": {
      "name": "Untitled11.ipynb",
      "provenance": []
    },
    "kernelspec": {
      "name": "python3",
      "display_name": "Python 3"
    }
  },
  "cells": [
    {
      "cell_type": "code",
      "metadata": {
        "colab": {
          "base_uri": "https://localhost:8080/"
        },
        "id": "RFm94TyZgP5j",
        "outputId": "6afb5078-951c-422a-c4fd-263d785a368a"
      },
      "source": [
        "import numpy as np\r\n",
        "import cvxpy as cp\r\n",
        "\r\n",
        "n = 3 \r\n",
        "m =5\r\n",
        "\r\n",
        "#cost matrix\r\n",
        "cost_per_good= np.array([[8,6,10,9,8],[9,12,13,7,5],[14,9,16,5,2]])\r\n",
        "#demand matrix\r\n",
        "Demand = np.array([45,20,30,30,10])\r\n",
        "#supply Matrix\r\n",
        "Supply = np.array([40,50,45]).T\r\n",
        "\r\n",
        "#defining problem\r\n",
        "X = cp.Variable((n,m))\r\n",
        "# total cost function\r\n",
        "Overall_cost = cp.multiply(cost_per_good, X)\r\n",
        "# objective of the problem\r\n",
        "objective = cp.Minimize(sum(sum(Overall_cost)))\r\n",
        "# Constraints of the problem\r\n",
        "constraints = [X>=0, X.T@np.ones(n)>= Demand, X@np.ones(m)<=Supply]\r\n",
        "\r\n",
        "#Solving the problem\r\n",
        "prob = cp.Problem(objective, constraints)\r\n",
        "prob.solve()\r\n",
        "\r\n",
        "print(\"Overall mininmum Cost :\",\"\\n\", prob.value)\r\n",
        "print( \"\\n\",\"Amount of quantities shipped :\",\"\\n\", X.value)\r\n",
        "\r\n"
      ],
      "execution_count": 11,
      "outputs": [
        {
          "output_type": "stream",
          "text": [
            "Overall mininmum Cost : \n",
            " 1025.0000000955836\n",
            "\n",
            " Amount of quantities shipped : \n",
            " [[7.77167004e-09 1.50000000e+01 2.50000000e+01 1.19073612e-09\n",
            "  3.61569238e-11]\n",
            " [4.50000000e+01 8.72312941e-09 4.99999999e+00 6.65873823e-09\n",
            "  3.28452853e-09]\n",
            " [3.32563406e-09 5.00000000e+00 9.35542028e-09 3.00000000e+01\n",
            "  1.00000000e+01]]\n"
          ],
          "name": "stdout"
        }
      ]
    },
    {
      "cell_type": "code",
      "metadata": {
        "id": "hSiEHGeOgS6l"
      },
      "source": [
        ""
      ],
      "execution_count": null,
      "outputs": []
    }
  ]
}